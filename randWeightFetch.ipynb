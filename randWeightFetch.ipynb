{
 "cells": [
  {
   "cell_type": "code",
   "execution_count": 1,
   "id": "05f6f777",
   "metadata": {},
   "outputs": [],
   "source": [
    "msg = \"\"\"    \"msg\": \"pondId:301020001, baitId:30930100304, waterTemp:180, structList:[UWS_FAULT], logLight:0.000000, layerList:[MWLT_MIDDLE] fishWeight:map[1010001:0 1010002:0 1010003:0 1010004:0 1010005:0 1010006:0 1010007:0 1010008:0 1010009:57 1010010:294 1010011:147 1010013:25 1010014:62 1010017:0 1010018:0 1010019:0 1010020:0 1010038:2 1010039:9 1010093:83 1010300:168 1010310:168 1010320:0 1010330:74 1010340:0 1010390:0]\",\n",
    "\"\"\"\n",
    "fishWeights = \"\"\"\n",
    "fishWeight:map[1010001:0 1010002:0 1010003:0 1010004:0 1010005:0 1010006:0 1010007:0 1010008:0 1010009:57 1010010:294 1010011:147 1010013:25 1010014:62 1010017:0 1010018:0 1010019:0 1010020:0 1010038:2 1010039:9 1010093:83 1010300:168 1010310:168 1010320:0 1010330:74 1010340:0 1010390:0]\n",
    "\"\"\""
   ]
  },
  {
   "cell_type": "code",
   "execution_count": 2,
   "id": "7eeef279",
   "metadata": {},
   "outputs": [
    {
     "name": "stdout",
     "output_type": "stream",
     "text": [
      "Parsed map: {1010001: 0, 1010002: 0, 1010003: 0, 1010004: 0, 1010005: 0, 1010006: 0, 1010007: 0, 1010008: 0, 1010009: 57, 1010010: 294, 1010011: 147, 1010013: 25, 1010014: 62, 1010017: 0, 1010018: 0, 1010019: 0, 1010020: 0, 1010038: 2, 1010039: 9, 1010093: 83, 1010300: 168, 1010310: 168, 1010320: 0, 1010330: 74, 1010340: 0, 1010390: 0}\n",
      "Total weight: 1089\n"
     ]
    }
   ],
   "source": [
    "import re\n",
    "\n",
    "def parse_fish_weight_map(text: str) -> dict:\n",
    "    \"\"\"\n",
    "    从形如 'fishWeight:map[1010001:0 1010002:0 ...]' 的字符串中提取出 {fish_id: weight} 的字典\n",
    "    \"\"\"\n",
    "    m = re.search(r\"map\\[(.*?)\\]\", text)\n",
    "    if not m:\n",
    "        return {}\n",
    "    items = m.group(1).split()\n",
    "    return {int(k): int(v) for item in items for k, v in [item.split(\":\")]}\n",
    "\n",
    "# 假设你的原始字符串保存在变量 fishWeights 中\n",
    "fish_weight_map = parse_fish_weight_map(fishWeights)\n",
    "total_weight = sum(fish_weight_map.values())\n",
    "\n",
    "print(\"Parsed map:\", fish_weight_map)\n",
    "print(\"Total weight:\", total_weight)"
   ]
  }
 ],
 "metadata": {
  "kernelspec": {
   "display_name": "Python 3",
   "language": "python",
   "name": "python3"
  },
  "language_info": {
   "codemirror_mode": {
    "name": "ipython",
    "version": 3
   },
   "file_extension": ".py",
   "mimetype": "text/x-python",
   "name": "python",
   "nbconvert_exporter": "python",
   "pygments_lexer": "ipython3",
   "version": "3.11.9"
  }
 },
 "nbformat": 4,
 "nbformat_minor": 5
}
